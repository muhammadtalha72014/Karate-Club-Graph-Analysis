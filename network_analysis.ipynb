{
  "nbformat": 4,
  "nbformat_minor": 0,
  "metadata": {
    "kernelspec": {
      "display_name": "Python 3",
      "language": "python",
      "name": "python3"
    },
    "language_info": {
      "codemirror_mode": {
        "name": "ipython",
        "version": 3
      },
      "file_extension": ".py",
      "mimetype": "text/x-python",
      "name": "python",
      "nbconvert_exporter": "python",
      "pygments_lexer": "ipython3",
      "version": "3.7.3"
    },
    "colab": {
      "provenance": [],
      "machine_shape": "hm"
    }
  },
  "cells": [
    {
      "cell_type": "markdown",
      "metadata": {
        "id": "8gzsP50bF6Gb"
      },
      "source": [
        "The Karate Club Network is used in this colab. (https://en.wikipedia.org/wiki/Zachary%27s_karate_club). Our objective will be to explore multiple graph statistics for that graph.\n",
        "\n",
        "**Note:** Make a copy before you proceed."
      ]
    },
    {
      "cell_type": "markdown",
      "metadata": {
        "id": "FDkpByYYfSzb"
      },
      "source": [
        "## Setup\n",
        "I used NetworkX in this Colab."
      ]
    },
    {
      "cell_type": "code",
      "metadata": {
        "id": "VWPkJjPAfVNW"
      },
      "source": [
        "import networkx as nx"
      ],
      "execution_count": 1,
      "outputs": []
    },
    {
      "cell_type": "markdown",
      "metadata": {
        "id": "VqUnYT5qUZYh"
      },
      "source": [
        "## Zachary's karate club network\n"
      ]
    },
    {
      "cell_type": "code",
      "metadata": {
        "id": "VIETqEfrfy5Y",
        "colab": {
          "base_uri": "https://localhost:8080/",
          "height": 186
        },
        "outputId": "50a6ad91-7add-4fb1-9dac-e959a38e8c86"
      },
      "source": [
        "G = nx.karate_club_graph()\n",
        "\n",
        "# G is an undirected graph\n",
        "type(G)"
      ],
      "execution_count": 2,
      "outputs": [
        {
          "output_type": "execute_result",
          "data": {
            "text/plain": [
              "networkx.classes.graph.Graph"
            ],
            "text/html": [
              "<div style=\"max-width:800px; border: 1px solid var(--colab-border-color);\"><style>\n",
              "      pre.function-repr-contents {\n",
              "        overflow-x: auto;\n",
              "        padding: 8px 12px;\n",
              "        max-height: 500px;\n",
              "      }\n",
              "\n",
              "      pre.function-repr-contents.function-repr-contents-collapsed {\n",
              "        cursor: pointer;\n",
              "        max-height: 100px;\n",
              "      }\n",
              "    </style>\n",
              "    <pre style=\"white-space: initial; background:\n",
              "         var(--colab-secondary-surface-color); padding: 8px 12px;\n",
              "         border-bottom: 1px solid var(--colab-border-color);\"><b>networkx.classes.graph.Graph</b><br/>def __init__(incoming_graph_data=None, **attr)</pre><pre class=\"function-repr-contents function-repr-contents-collapsed\" style=\"\"><a class=\"filepath\" style=\"display:none\" href=\"#\">/usr/local/lib/python3.10/dist-packages/networkx/classes/graph.py</a>Base class for undirected graphs.\n",
              "\n",
              "A Graph stores nodes and edges with optional data, or attributes.\n",
              "\n",
              "Graphs hold undirected edges.  Self loops are allowed but multiple\n",
              "(parallel) edges are not.\n",
              "\n",
              "Nodes can be arbitrary (hashable) Python objects with optional\n",
              "key/value attributes, except that `None` is not allowed as a node.\n",
              "\n",
              "Edges are represented as links between nodes with optional\n",
              "key/value attributes.\n",
              "\n",
              "Parameters\n",
              "----------\n",
              "incoming_graph_data : input graph (optional, default: None)\n",
              "    Data to initialize graph. If None (default) an empty\n",
              "    graph is created.  The data can be any format that is supported\n",
              "    by the to_networkx_graph() function, currently including edge list,\n",
              "    dict of dicts, dict of lists, NetworkX graph, 2D NumPy array, SciPy\n",
              "    sparse matrix, or PyGraphviz graph.\n",
              "\n",
              "attr : keyword arguments, optional (default= no attributes)\n",
              "    Attributes to add to graph as key=value pairs.\n",
              "\n",
              "See Also\n",
              "--------\n",
              "DiGraph\n",
              "MultiGraph\n",
              "MultiDiGraph\n",
              "\n",
              "Examples\n",
              "--------\n",
              "Create an empty graph structure (a &quot;null graph&quot;) with no nodes and\n",
              "no edges.\n",
              "\n",
              "&gt;&gt;&gt; G = nx.Graph()\n",
              "\n",
              "G can be grown in several ways.\n",
              "\n",
              "**Nodes:**\n",
              "\n",
              "Add one node at a time:\n",
              "\n",
              "&gt;&gt;&gt; G.add_node(1)\n",
              "\n",
              "Add the nodes from any container (a list, dict, set or\n",
              "even the lines from a file or the nodes from another graph).\n",
              "\n",
              "&gt;&gt;&gt; G.add_nodes_from([2, 3])\n",
              "&gt;&gt;&gt; G.add_nodes_from(range(100, 110))\n",
              "&gt;&gt;&gt; H = nx.path_graph(10)\n",
              "&gt;&gt;&gt; G.add_nodes_from(H)\n",
              "\n",
              "In addition to strings and integers any hashable Python object\n",
              "(except None) can represent a node, e.g. a customized node object,\n",
              "or even another Graph.\n",
              "\n",
              "&gt;&gt;&gt; G.add_node(H)\n",
              "\n",
              "**Edges:**\n",
              "\n",
              "G can also be grown by adding edges.\n",
              "\n",
              "Add one edge,\n",
              "\n",
              "&gt;&gt;&gt; G.add_edge(1, 2)\n",
              "\n",
              "a list of edges,\n",
              "\n",
              "&gt;&gt;&gt; G.add_edges_from([(1, 2), (1, 3)])\n",
              "\n",
              "or a collection of edges,\n",
              "\n",
              "&gt;&gt;&gt; G.add_edges_from(H.edges)\n",
              "\n",
              "If some edges connect nodes not yet in the graph, the nodes\n",
              "are added automatically.  There are no errors when adding\n",
              "nodes or edges that already exist.\n",
              "\n",
              "**Attributes:**\n",
              "\n",
              "Each graph, node, and edge can hold key/value attribute pairs\n",
              "in an associated attribute dictionary (the keys must be hashable).\n",
              "By default these are empty, but can be added or changed using\n",
              "add_edge, add_node or direct manipulation of the attribute\n",
              "dictionaries named graph, node and edge respectively.\n",
              "\n",
              "&gt;&gt;&gt; G = nx.Graph(day=&quot;Friday&quot;)\n",
              "&gt;&gt;&gt; G.graph\n",
              "{&#x27;day&#x27;: &#x27;Friday&#x27;}\n",
              "\n",
              "Add node attributes using add_node(), add_nodes_from() or G.nodes\n",
              "\n",
              "&gt;&gt;&gt; G.add_node(1, time=&quot;5pm&quot;)\n",
              "&gt;&gt;&gt; G.add_nodes_from([3], time=&quot;2pm&quot;)\n",
              "&gt;&gt;&gt; G.nodes[1]\n",
              "{&#x27;time&#x27;: &#x27;5pm&#x27;}\n",
              "&gt;&gt;&gt; G.nodes[1][&quot;room&quot;] = 714  # node must exist already to use G.nodes\n",
              "&gt;&gt;&gt; del G.nodes[1][&quot;room&quot;]  # remove attribute\n",
              "&gt;&gt;&gt; list(G.nodes(data=True))\n",
              "[(1, {&#x27;time&#x27;: &#x27;5pm&#x27;}), (3, {&#x27;time&#x27;: &#x27;2pm&#x27;})]\n",
              "\n",
              "Add edge attributes using add_edge(), add_edges_from(), subscript\n",
              "notation, or G.edges.\n",
              "\n",
              "&gt;&gt;&gt; G.add_edge(1, 2, weight=4.7)\n",
              "&gt;&gt;&gt; G.add_edges_from([(3, 4), (4, 5)], color=&quot;red&quot;)\n",
              "&gt;&gt;&gt; G.add_edges_from([(1, 2, {&quot;color&quot;: &quot;blue&quot;}), (2, 3, {&quot;weight&quot;: 8})])\n",
              "&gt;&gt;&gt; G[1][2][&quot;weight&quot;] = 4.7\n",
              "&gt;&gt;&gt; G.edges[1, 2][&quot;weight&quot;] = 4\n",
              "\n",
              "Warning: we protect the graph data structure by making `G.edges` a\n",
              "read-only dict-like structure. However, you can assign to attributes\n",
              "in e.g. `G.edges[1, 2]`. Thus, use 2 sets of brackets to add/change\n",
              "data attributes: `G.edges[1, 2][&#x27;weight&#x27;] = 4`\n",
              "(For multigraphs: `MG.edges[u, v, key][name] = value`).\n",
              "\n",
              "**Shortcuts:**\n",
              "\n",
              "Many common graph features allow python syntax to speed reporting.\n",
              "\n",
              "&gt;&gt;&gt; 1 in G  # check if node in graph\n",
              "True\n",
              "&gt;&gt;&gt; [n for n in G if n &lt; 3]  # iterate through nodes\n",
              "[1, 2]\n",
              "&gt;&gt;&gt; len(G)  # number of nodes in graph\n",
              "5\n",
              "\n",
              "Often the best way to traverse all edges of a graph is via the neighbors.\n",
              "The neighbors are reported as an adjacency-dict `G.adj` or `G.adjacency()`\n",
              "\n",
              "&gt;&gt;&gt; for n, nbrsdict in G.adjacency():\n",
              "...     for nbr, eattr in nbrsdict.items():\n",
              "...         if &quot;weight&quot; in eattr:\n",
              "...             # Do something useful with the edges\n",
              "...             pass\n",
              "\n",
              "But the edges() method is often more convenient:\n",
              "\n",
              "&gt;&gt;&gt; for u, v, weight in G.edges.data(&quot;weight&quot;):\n",
              "...     if weight is not None:\n",
              "...         # Do something useful with the edges\n",
              "...         pass\n",
              "\n",
              "**Reporting:**\n",
              "\n",
              "Simple graph information is obtained using object-attributes and methods.\n",
              "Reporting typically provides views instead of containers to reduce memory\n",
              "usage. The views update as the graph is updated similarly to dict-views.\n",
              "The objects `nodes`, `edges` and `adj` provide access to data attributes\n",
              "via lookup (e.g. `nodes[n]`, `edges[u, v]`, `adj[u][v]`) and iteration\n",
              "(e.g. `nodes.items()`, `nodes.data(&#x27;color&#x27;)`,\n",
              "`nodes.data(&#x27;color&#x27;, default=&#x27;blue&#x27;)` and similarly for `edges`)\n",
              "Views exist for `nodes`, `edges`, `neighbors()`/`adj` and `degree`.\n",
              "\n",
              "For details on these and other miscellaneous methods, see below.\n",
              "\n",
              "**Subclasses (Advanced):**\n",
              "\n",
              "The Graph class uses a dict-of-dict-of-dict data structure.\n",
              "The outer dict (node_dict) holds adjacency information keyed by node.\n",
              "The next dict (adjlist_dict) represents the adjacency information and holds\n",
              "edge data keyed by neighbor.  The inner dict (edge_attr_dict) represents\n",
              "the edge data and holds edge attribute values keyed by attribute names.\n",
              "\n",
              "Each of these three dicts can be replaced in a subclass by a user defined\n",
              "dict-like object. In general, the dict-like features should be\n",
              "maintained but extra features can be added. To replace one of the\n",
              "dicts create a new graph class by changing the class(!) variable\n",
              "holding the factory for that dict-like structure.\n",
              "\n",
              "node_dict_factory : function, (default: dict)\n",
              "    Factory function to be used to create the dict containing node\n",
              "    attributes, keyed by node id.\n",
              "    It should require no arguments and return a dict-like object\n",
              "\n",
              "node_attr_dict_factory: function, (default: dict)\n",
              "    Factory function to be used to create the node attribute\n",
              "    dict which holds attribute values keyed by attribute name.\n",
              "    It should require no arguments and return a dict-like object\n",
              "\n",
              "adjlist_outer_dict_factory : function, (default: dict)\n",
              "    Factory function to be used to create the outer-most dict\n",
              "    in the data structure that holds adjacency info keyed by node.\n",
              "    It should require no arguments and return a dict-like object.\n",
              "\n",
              "adjlist_inner_dict_factory : function, (default: dict)\n",
              "    Factory function to be used to create the adjacency list\n",
              "    dict which holds edge data keyed by neighbor.\n",
              "    It should require no arguments and return a dict-like object\n",
              "\n",
              "edge_attr_dict_factory : function, (default: dict)\n",
              "    Factory function to be used to create the edge attribute\n",
              "    dict which holds attribute values keyed by attribute name.\n",
              "    It should require no arguments and return a dict-like object.\n",
              "\n",
              "graph_attr_dict_factory : function, (default: dict)\n",
              "    Factory function to be used to create the graph attribute\n",
              "    dict which holds attribute values keyed by attribute name.\n",
              "    It should require no arguments and return a dict-like object.\n",
              "\n",
              "Typically, if your extension doesn&#x27;t impact the data structure all\n",
              "methods will inherit without issue except: `to_directed/to_undirected`.\n",
              "By default these methods create a DiGraph/Graph class and you probably\n",
              "want them to create your extension of a DiGraph/Graph. To facilitate\n",
              "this we define two class variables that you can set in your subclass.\n",
              "\n",
              "to_directed_class : callable, (default: DiGraph or MultiDiGraph)\n",
              "    Class to create a new graph structure in the `to_directed` method.\n",
              "    If `None`, a NetworkX class (DiGraph or MultiDiGraph) is used.\n",
              "\n",
              "to_undirected_class : callable, (default: Graph or MultiGraph)\n",
              "    Class to create a new graph structure in the `to_undirected` method.\n",
              "    If `None`, a NetworkX class (Graph or MultiGraph) is used.\n",
              "\n",
              "**Subclassing Example**\n",
              "\n",
              "Create a low memory graph class that effectively disallows edge\n",
              "attributes by using a single attribute dict for all edges.\n",
              "This reduces the memory used, but you lose edge attributes.\n",
              "\n",
              "&gt;&gt;&gt; class ThinGraph(nx.Graph):\n",
              "...     all_edge_dict = {&quot;weight&quot;: 1}\n",
              "...\n",
              "...     def single_edge_dict(self):\n",
              "...         return self.all_edge_dict\n",
              "...\n",
              "...     edge_attr_dict_factory = single_edge_dict\n",
              "&gt;&gt;&gt; G = ThinGraph()\n",
              "&gt;&gt;&gt; G.add_edge(2, 1)\n",
              "&gt;&gt;&gt; G[2][1]\n",
              "{&#x27;weight&#x27;: 1}\n",
              "&gt;&gt;&gt; G.add_edge(2, 2)\n",
              "&gt;&gt;&gt; G[2][1] is G[2][2]\n",
              "True</pre>\n",
              "      <script>\n",
              "      if (google.colab.kernel.accessAllowed && google.colab.files && google.colab.files.view) {\n",
              "        for (const element of document.querySelectorAll('.filepath')) {\n",
              "          element.style.display = 'block'\n",
              "          element.onclick = (event) => {\n",
              "            event.preventDefault();\n",
              "            event.stopPropagation();\n",
              "            google.colab.files.view(element.textContent, 66);\n",
              "          };\n",
              "        }\n",
              "      }\n",
              "      for (const element of document.querySelectorAll('.function-repr-contents')) {\n",
              "        element.onclick = (event) => {\n",
              "          event.preventDefault();\n",
              "          event.stopPropagation();\n",
              "          element.classList.toggle('function-repr-contents-collapsed');\n",
              "        };\n",
              "      }\n",
              "      </script>\n",
              "      </div>"
            ]
          },
          "metadata": {},
          "execution_count": 2
        }
      ]
    },
    {
      "cell_type": "code",
      "metadata": {
        "id": "hDvf3nm-ors4",
        "colab": {
          "base_uri": "https://localhost:8080/",
          "height": 516
        },
        "outputId": "4ffb716c-957b-4d15-92ae-7b0d0cc8b1b5"
      },
      "source": [
        "# Visualize the graph\n",
        "nx.draw(G, with_labels = True)"
      ],
      "execution_count": 3,
      "outputs": [
        {
          "output_type": "display_data",
          "data": {
            "text/plain": [
              "<Figure size 640x480 with 1 Axes>"
            ],
            "image/png": "[encoded data removed]"
          },
          "metadata": {}
        }
      ]
    },
    {
      "cell_type": "markdown",
      "metadata": {
        "id": "FX25Y1CrYmgN"
      },
      "source": [
        "## Question 1: What is the average degree of the karate club network?\n",
        "Average Degree = $ k = \\frac{2*\\text{Number of Edges}}{Number of Nodes}$."
      ]
    },
    {
      "cell_type": "code",
      "metadata": {
        "id": "AUhES1VYo3tB",
        "colab": {
          "base_uri": "https://localhost:8080/"
        },
        "outputId": "ab8dde54-b83b-43bd-f70d-056386d28511"
      },
      "source": [
        "def average_degree1(num_nodes):\n",
        "\n",
        "  total_degree = 0\n",
        "\n",
        "  # We use for loop to calculate the total degree of all nodes in the graph\n",
        "  for node in G.nodes:\n",
        "    total_degree += G.degree(node)\n",
        "\n",
        "  if num_nodes > 0:\n",
        "    avg_degree = total_degree/num_nodes\n",
        "  else:\n",
        "    avg_degree = 0\n",
        "\n",
        "  return avg_degree\n",
        "\n",
        "# Alternative way to calculate average degree using formula\n",
        "\n",
        "def average_degree2(num_edges, num_nodes):\n",
        "\n",
        "  avg_degree = (2 * num_edges)/num_nodes\n",
        "  return avg_degree\n",
        "\n",
        "# Check the number of nodes and edges in a given graph\n",
        "num_edges = G.number_of_edges()\n",
        "num_nodes = G.number_of_nodes()\n",
        "\n",
        "avg_degree1 = average_degree1(num_nodes)\n",
        "avg_degree2 = average_degree2(num_edges, num_nodes)\n",
        "\n",
        "print(\"Average degree of karate club network is {}\".format(avg_degree1))\n",
        "print(\"Average degree of karate club network using formula is {}\".format(avg_degree2))"
      ],
      "execution_count": 4,
      "outputs": [
        {
          "output_type": "stream",
          "name": "stdout",
          "text": [
            "Average degree of karate club network is 4.588235294117647\n",
            "Average degree of karate club network using formula is 4.588235294117647\n"
          ]
        }
      ]
    },
    {
      "cell_type": "markdown",
      "source": [
        "## Question 2: What is the number of classes in karate club dataset?\n",
        "nx.set_node_attributes function is used to assign a 'class' attribute to each node based on the 'club' attribute. This is a way to introduce class labels to the nodes.\n"
      ],
      "metadata": {
        "id": "62kCbbXOxM0O"
      }
    },
    {
      "cell_type": "code",
      "source": [
        "def get_num_classes(graph):\n",
        "\n",
        "  node_classes = set(nx.get_node_attributes(graph, 'class').values())\n",
        "  num_classes = len(node_classes)\n",
        "  return num_classes\n",
        "\n",
        "# Assuming we have class labels assigned to nodes:\n",
        "nx.set_node_attributes(G, {node: G.nodes[node]['club'] for node in G.nodes}, 'class')\n",
        "\n",
        "num_classes = get_num_classes(G)\n",
        "print(\"Number of classes using node attributes:\", num_classes)"
      ],
      "metadata": {
        "id": "ivm70p40xOs2",
        "colab": {
          "base_uri": "https://localhost:8080/"
        },
        "outputId": "c5298873-1bc1-40d6-f1e1-80d1c94190a9"
      },
      "execution_count": 5,
      "outputs": [
        {
          "output_type": "stream",
          "name": "stdout",
          "text": [
            "Number of classes using node attributes: 2\n"
          ]
        }
      ]
    },
    {
      "cell_type": "markdown",
      "metadata": {
        "id": "Fk02fD4vYmZI"
      },
      "source": [
        "## Question 3: What is the average clustering coefficient of the karate club network?\n",
        "\n",
        "The average clustering coefficient is a measure of the degree to which nodes in a graph tend to cluster together.\n",
        "\n",
        "The equation for clustering Coeffiecent of undirected graph is $e_v = \\frac{2*\\text{Number of Triangle incident to node i}}{\\text{(Degree of i)*(Degree of i -1)}}$.\n"
      ]
    },
    {
      "cell_type": "code",
      "metadata": {
        "id": "k15XKEto1aYJ",
        "colab": {
          "base_uri": "https://localhost:8080/"
        },
        "outputId": "f956e613-f340-4257-a623-11b50210c476"
      },
      "source": [
        "def average_clustering_coefficient1(graph):\n",
        "    total_nodes = len(graph.nodes())\n",
        "    if total_nodes < 3:\n",
        "        # Clustering coefficient is not defined for graphs with less than 3 nodes\n",
        "        return 0.0\n",
        "\n",
        "    total_clustering_coefficient = 0.0\n",
        "\n",
        "    for node in graph.nodes():\n",
        "        neighbors = list(graph.neighbors(node))\n",
        "        num_neighbors = len(neighbors)\n",
        "\n",
        "        if num_neighbors >= 2:\n",
        "            total_triangles = 0\n",
        "            for i in range(num_neighbors - 1):\n",
        "                for j in range(i + 1, num_neighbors):\n",
        "                    if graph.has_edge(neighbors[i], neighbors[j]):\n",
        "                        total_triangles += 1\n",
        "\n",
        "            clustering_coefficient = 2.0 * total_triangles / (num_neighbors * (num_neighbors - 1))\n",
        "            total_clustering_coefficient += clustering_coefficient\n",
        "\n",
        "    avg_cluster_coef = total_clustering_coefficient / total_nodes\n",
        "    return avg_cluster_coef\n",
        "\n",
        "# Calculate average clustering coefficient using the custom function\n",
        "avg_cluster_coef1 = average_clustering_coefficient1(G)\n",
        "print(\"Average clustering coefficient of karate club network is {}\".format(avg_cluster_coef1))\n",
        "\n",
        "#Alternative way to calculate average clustering coefficient\n",
        "\n",
        "def average_clustering_coefficient2(G):\n",
        "\n",
        "    avg_cluster_coef = nx.average_clustering(G)\n",
        "\n",
        "    return avg_cluster_coef\n",
        "\n",
        "avg_cluster_coef2 = average_clustering_coefficient2(G)\n",
        "print(\"Average clustering coefficient of karate club network using build in function is {}\".format(avg_cluster_coef2))"
      ],
      "execution_count": 6,
      "outputs": [
        {
          "output_type": "stream",
          "name": "stdout",
          "text": [
            "Average clustering coefficient of karate club network is 0.5706384782076823\n",
            "Average clustering coefficient of karate club network using build in function is 0.5706384782076823\n"
          ]
        }
      ]
    },
    {
      "cell_type": "markdown",
      "metadata": {
        "id": "icTcOULeYmIu"
      },
      "source": [
        "## Question 4: What is the closeness centrality for the karate club network node 5?\n",
        "\n",
        "The equation for closeness centrality is $c_v = \\frac{1}{\\sum_{u \\neq v}\\text{shortest path length between } u \\text{ and } v}$."
      ]
    },
    {
      "cell_type": "code",
      "metadata": {
        "id": "XbCsq_tl-3ok",
        "colab": {
          "base_uri": "https://localhost:8080/"
        },
        "outputId": "5ec4a115-a4cf-4e75-cc5b-a9bfa5d241c2"
      },
      "source": [
        "def closeness_centrality1(graph, node):\n",
        "    # Get the set of nodes in the graph\n",
        "    all_nodes = set(graph.nodes())\n",
        "    total_node = len(all_nodes)\n",
        "\n",
        "    # Initialize the total closeness centrality\n",
        "    total_closeness = 0\n",
        "\n",
        "    # Iterate over all other nodes in the graph\n",
        "    for other_node in all_nodes:\n",
        "        if other_node != node:\n",
        "            try:\n",
        "                # Calculate the shortest path distance\n",
        "                shortest_path_length = nx.shortest_path_length(graph, source=node, target=other_node)\n",
        "                # Add the reciprocal of the distance to the total closeness\n",
        "                total_closeness += shortest_path_length\n",
        "            except nx.NetworkXNoPath:\n",
        "                # If there is no path between nodes, skip and continue\n",
        "                continue\n",
        "\n",
        "    # Calculate the closeness centrality for the given node\n",
        "    closeness_centrality = (total_node - 1) / total_closeness if total_closeness != 0 else 0\n",
        "\n",
        "    return closeness_centrality\n",
        "\n",
        "node = 5\n",
        "closeness1 = closeness_centrality1(G, node)\n",
        "print(\"The node {} has closeness centrality {}\".format(node, closeness1))\n",
        "\n",
        "#Alternative way to calculate Closeness centrality using build in function\n",
        "\n",
        "def closeness_centrality2(G, node=5):\n",
        "\n",
        "  closeness = 0\n",
        "  closeness = nx.closeness_centrality(G, u=node)\n",
        "\n",
        "  return closeness\n",
        "\n",
        "node = 5\n",
        "closeness2 = closeness_centrality2(G, node=node)\n",
        "print(\"The node 5 has closeness centrality using build in function {}\".format(closeness2))"
      ],
      "execution_count": null,
      "outputs": [
        {
          "output_type": "stream",
          "name": "stdout",
          "text": [
            "The node 5 has closeness centrality 0.38372093023255816\n",
            "The node 5 has closeness centrality using build in function 0.38372093023255816\n"
          ]
        }
      ]
    },
    {
      "cell_type": "markdown",
      "source": [
        "# **Example**\n",
        "Networkx function return the normalized closeness centrality values by default so they are ready to be compared across graphs of different sizes without any additional scaling. If we use different library or formula to calculate closeness centrality then we need to normalize it. Here I add a simple example in which first they calculate closeness centrality of each node by using the formula (mentioned above) and then multiple it with N-1 (N is total number of node) to normalize it and this is difference from the one that we discussed in the lecture.\n",
        "\n",
        "The final equation for closeness centrality is $c_v = \\frac{N-1}{\\sum_{u \\neq v}\\text{shortest path length between } u \\text{ and } v}$.\n"
      ],
      "metadata": {
        "id": "gxZ0ouxn1epx"
      }
    },
    {
      "cell_type": "code",
      "source": [
        "# Example to understand the calculation\n",
        "# Notice that networkx closeness centrality returns the normalized closeness directly, Discuss how does it is different from the on that we discussed in the lecture\n",
        "# Create a graph (you can use any graph)\n",
        "H = nx.Graph()\n",
        "H.add_edges_from([(1, 2), (2, 3), (3, 4)])\n",
        "# Visualize the graph\n",
        "nx.draw(H, with_labels = True)\n",
        "\n",
        "# Calculate closeness centrality for all nodes\n",
        "closeness_centrality = nx.closeness_centrality(H)\n",
        "\n",
        "# Print closeness centrality for each node\n",
        "for node, closeness in closeness_centrality.items():\n",
        "    print(f\"Node {node}: Closeness Centrality = {closeness:.4f}\")  #Here .4f is used which means upto 4 decimal point\n",
        "\n",
        "# avg_degree = nx.average_degree_connectivity(H)\n",
        "\n",
        "# print(\"Average Degree:\")\n",
        "# print(avg_degree)"
      ],
      "metadata": {
        "colab": {
          "base_uri": "https://localhost:8080/",
          "height": 585
        },
        "id": "XGU6K62UzDSt",
        "outputId": "c14a6f9f-4a34-4d9f-dd17-e51901d9a4d7"
      },
      "execution_count": null,
      "outputs": [
        {
          "output_type": "stream",
          "name": "stdout",
          "text": [
            "Node 1: Closeness Centrality = 0.5000\n",
            "Node 2: Closeness Centrality = 0.7500\n",
            "Node 3: Closeness Centrality = 0.7500\n",
            "Node 4: Closeness Centrality = 0.5000\n"
          ]
        },
        {
          "output_type": "display_data",
          "data": {
            "text/plain": [
              "<Figure size 640x480 with 1 Axes>"
            ],
            "image/png": "[encoded data removed]"
          },
          "metadata": {}
        }
      ]
    },
    {
      "cell_type": "markdown",
      "source": [
        "Calculation of above result:\n",
        "\n",
        "$c_1 = \\frac{4-1}{1+2+3}=\\frac{3}{6}=0.5$,\n",
        "$c_2 = \\frac{4-1}{1+1+2}=\\frac{3}{4}=0.75$,\n",
        "$c_3 = \\frac{4-1}{1+1+2}=\\frac{3}{4}=0.75$,\n",
        "$c_4 = \\frac{4-1}{1+2+3}=\\frac{3}{6}=0.5$"
      ],
      "metadata": {
        "id": "PWXxztq-3MKd"
      }
    },
    {
      "cell_type": "markdown",
      "source": [
        "## Question 5: Can we compute the link level features of the karate club network. If so, provide an method/algorithm of your choice for computing the link-level features."
      ],
      "metadata": {
        "id": "8d0uMRtsvPDh"
      }
    },
    {
      "cell_type": "code",
      "source": [
        "import pandas as pd\n",
        "from math import log\n",
        "\n",
        "# Function to compute link-level features\n",
        "def compute_link_features(graph):\n",
        "    link_features = {}\n",
        "    for edge in graph.edges():\n",
        "        node1, node2 = edge\n",
        "\n",
        "        # Common Neighbors\n",
        "        common_neighbors = list(nx.common_neighbors(graph, node1, node2))\n",
        "\n",
        "        # Jaccard Coefficient\n",
        "        if len(common_neighbors) > 0:\n",
        "            jaccard_coefficient = len(common_neighbors) / len(set(graph.neighbors(node1)).union(graph.neighbors(node2)))\n",
        "        else:\n",
        "            jaccard_coefficient = 0\n",
        "\n",
        "        # Adamic-Adar Index\n",
        "        adamic_adar_index = sum(1 / log(graph.degree(neighbor)) for neighbor in common_neighbors)\n",
        "\n",
        "        link_features[edge] = {\n",
        "            'Common Neighbors': common_neighbors,\n",
        "            'Jaccard Coefficient': jaccard_coefficient,\n",
        "            'Adamic-Adar Index': adamic_adar_index\n",
        "        }\n",
        "\n",
        "    return link_features\n",
        "\n",
        "# Compute link-level features for the karate club network\n",
        "link_features = compute_link_features(G)\n",
        "\n",
        "# Convert link-level features to a pandas DataFrame\n",
        "df = pd.DataFrame.from_dict(link_features, orient='index')\n",
        "\n",
        "# Display the entire DataFrame\n",
        "pd.set_option('display.max_rows', None)\n",
        "pd.set_option('display.max_columns', None)\n",
        "pd.set_option('display.width', None)\n",
        "pd.set_option('display.max_colwidth', None)\n",
        "print(df)"
      ],
      "metadata": {
        "colab": {
          "base_uri": "https://localhost:8080/"
        },
        "id": "c0Ur7SAV4g-y",
        "outputId": "dace3df3-ff85-4719-cfd8-b0dbd7ddc956"
      },
      "execution_count": null,
      "outputs": [
        {
          "output_type": "stream",
          "name": "stdout",
          "text": [
            "                              Common Neighbors  Jaccard Coefficient  Adamic-Adar Index\n",
            "0  1                 [2, 3, 7, 13, 17, 19, 21]             0.388889           6.130717\n",
            "   2                          [1, 3, 7, 8, 13]             0.238095           2.977248\n",
            "   3                         [1, 2, 7, 12, 13]             0.294118           3.674792\n",
            "   4                                   [6, 10]             0.117647           1.631587\n",
            "   5                                   [6, 10]             0.111111           1.631587\n",
            "   6                                    [4, 5]             0.111111           1.631587\n",
            "   7                                 [1, 2, 3]             0.176471           1.447525\n",
            "   8                                       [2]             0.050000           0.434294\n",
            "   10                                   [4, 5]             0.117647           1.631587\n",
            "   11                                       []             0.000000           0.000000\n",
            "   12                                      [3]             0.058824           0.558111\n",
            "   13                                [1, 2, 3]             0.166667           1.447525\n",
            "   17                                      [1]             0.058824           0.455120\n",
            "   19                                      [1]             0.055556           0.455120\n",
            "   21                                      [1]             0.058824           0.455120\n",
            "   31                                       []             0.000000           0.000000\n",
            "1  2                             [0, 3, 7, 13]             0.266667           2.261467\n",
            "   3                             [0, 2, 7, 13]             0.363636           2.137651\n",
            "   7                                 [0, 2, 3]             0.300000           1.353079\n",
            "   13                                [0, 2, 3]             0.272727           1.353079\n",
            "   17                                      [0]             0.100000           0.360674\n",
            "   19                                      [0]             0.090909           0.360674\n",
            "   21                                      [0]             0.100000           0.360674\n",
            "   30                                       []             0.000000           0.000000\n",
            "2  3                             [0, 1, 7, 13]             0.333333           2.158476\n",
            "   7                                 [0, 1, 3]             0.272727           1.373904\n",
            "   8                                   [0, 32]             0.153846           0.763103\n",
            "   9                                        []             0.000000           0.000000\n",
            "   13                                [0, 1, 3]             0.250000           1.373904\n",
            "   27                                       []             0.000000           0.000000\n",
            "   28                                       []             0.000000           0.000000\n",
            "   32                                      [8]             0.047619           0.621335\n",
            "3  7                                 [0, 1, 2]             0.428571           1.250088\n",
            "   12                                      [0]             0.142857           0.360674\n",
            "   13                                [0, 1, 2]             0.375000           1.250088\n",
            "4  6                                       [0]             0.166667           0.360674\n",
            "   10                                      [0]             0.200000           0.360674\n",
            "5  6                                   [0, 16]             0.333333           1.803369\n",
            "   10                                      [0]             0.166667           0.360674\n",
            "   16                                      [6]             0.200000           0.721348\n",
            "6  16                                      [5]             0.200000           0.721348\n",
            "8  30                                 [32, 33]             0.285714           0.755386\n",
            "   32                              [2, 30, 33]             0.214286           1.508598\n",
            "   33                                 [30, 32]             0.100000           1.123777\n",
            "9  33                                       []             0.000000           0.000000\n",
            "13 33                                       []             0.000000           0.000000\n",
            "14 32                                     [33]             0.076923           0.352956\n",
            "   33                                     [32]             0.055556           0.402430\n",
            "15 32                                     [33]             0.076923           0.352956\n",
            "   33                                     [32]             0.055556           0.402430\n",
            "18 32                                     [33]             0.076923           0.352956\n",
            "   33                                     [32]             0.055556           0.402430\n",
            "19 33                                       []             0.000000           0.000000\n",
            "20 32                                     [33]             0.076923           0.352956\n",
            "   33                                     [32]             0.055556           0.402430\n",
            "22 32                                     [33]             0.076923           0.352956\n",
            "   33                                     [32]             0.055556           0.402430\n",
            "23 25                                       []             0.000000           0.000000\n",
            "   27                                     [33]             0.125000           0.352956\n",
            "   29                                 [32, 33]             0.285714           0.755386\n",
            "   32                                 [29, 33]             0.133333           1.074304\n",
            "   33                             [27, 29, 32]             0.157895           1.845125\n",
            "24 25                                     [31]             0.200000           0.558111\n",
            "   27                                       []             0.000000           0.000000\n",
            "   31                                     [25]             0.125000           0.910239\n",
            "25 31                                     [24]             0.125000           0.910239\n",
            "26 29                                     [33]             0.200000           0.352956\n",
            "   33                                     [29]             0.055556           0.721348\n",
            "27 33                                     [23]             0.050000           0.621335\n",
            "28 31                                     [33]             0.125000           0.352956\n",
            "   33                                     [31]             0.052632           0.558111\n",
            "29 32                                 [23, 33]             0.142857           0.974291\n",
            "   33                             [23, 26, 32]             0.166667           2.466460\n",
            "30 32                                  [8, 33]             0.142857           0.974291\n",
            "   33                                  [8, 32]             0.105263           1.023765\n",
            "31 32                                     [33]             0.058824           0.352956\n",
            "   33                                 [28, 32]             0.095238           1.312669\n",
            "32 33  [8, 14, 15, 18, 20, 22, 23, 29, 30, 31]             0.526316          10.456951\n"
          ]
        }
      ]
    }
  ]
}